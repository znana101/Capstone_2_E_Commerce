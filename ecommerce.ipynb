{
 "cells": [
  {
   "cell_type": "code",
   "execution_count": 133,
   "metadata": {},
   "outputs": [],
   "source": [
    "# IMPORT PACKAGES\n",
    "import os, datetime\n",
    "import IPython\n",
    "import IPython.display\n",
    "import sklearn, pickle\n",
    "import matplotlib as mpl\n",
    "import matplotlib.pyplot as plt\n",
    "import tensorflow as tf\n",
    "import numpy as np\n",
    "import pandas as pd\n",
    "import seaborn as sns\n",
    "from tensorflow import keras\n",
    "from sklearn.model_selection import train_test_split"
   ]
  },
  {
   "cell_type": "code",
   "execution_count": 134,
   "metadata": {},
   "outputs": [
    {
     "name": "stdout",
     "output_type": "stream",
     "text": [
      "<class 'pandas.core.frame.DataFrame'>\n",
      "RangeIndex: 50424 entries, 0 to 50423\n",
      "Data columns (total 2 columns):\n",
      " #   Column                                                                                                                                                                                                                                                                                                                                                                                                                                                                                                                                                                                                                                                                                                                                                                                                                                                                                                                                                                                                                                                                                                                                                                                                                                                                                                                                                                                      Non-Null Count  Dtype \n",
      "---  ------                                                                                                                                                                                                                                                                                                                                                                                                                                                                                                                                                                                                                                                                                                                                                                                                                                                                                                                                                                                                                                                                                                                                                                                                                                                                                                                                                                                      --------------  ----- \n",
      " 0   Household                                                                                                                                                                                                                                                                                                                                                                                                                                                                                                                                                                                                                                                                                                                                                                                                                                                                                                                                                                                                                                                                                                                                                                                                                                                                                                                                                                                   50424 non-null  object\n",
      " 1   Paper Plane Design Framed Wall Hanging Motivational Office Decor Art Prints (8.7 X 8.7 inch) - Set of 4 Painting made up in synthetic frame with uv textured print which gives multi effects and attracts towards it. This is an special series of paintings which makes your wall very beautiful and gives a royal touch. This painting is ready to hang, you would be proud to possess this unique painting that is a niche apart. We use only the most modern and efficient printing technology on our prints, with only the and inks and precision epson, roland and hp printers. This innovative hd printing technique results in durable and spectacular looking prints of the highest that last a lifetime. We print solely with top-notch 100% inks, to achieve brilliant and true colours. Due to their high level of uv resistance, our prints retain their beautiful colours for many years. Add colour and style to your living space with this digitally printed painting. Some are for pleasure and some for eternal bliss.so bring home this elegant print that is lushed with rich colors that makes it nothing but sheer elegance to be to your friends and family.it would be treasured forever by whoever your lucky recipient is. Liven up your place with these intriguing paintings that are high definition hd graphic digital prints for home, office or any room.  50423 non-null  object\n",
      "dtypes: object(2)\n",
      "memory usage: 788.0+ KB\n",
      "None\n",
      "   Household  \\\n",
      "0  Household   \n",
      "\n",
      "  Paper Plane Design Framed Wall Hanging Motivational Office Decor Art Prints (8.7 X 8.7 inch) - Set of 4 Painting made up in synthetic frame with uv textured print which gives multi effects and attracts towards it. This is an special series of paintings which makes your wall very beautiful and gives a royal touch. This painting is ready to hang, you would be proud to possess this unique painting that is a niche apart. We use only the most modern and efficient printing technology on our prints, with only the and inks and precision epson, roland and hp printers. This innovative hd printing technique results in durable and spectacular looking prints of the highest that last a lifetime. We print solely with top-notch 100% inks, to achieve brilliant and true colours. Due to their high level of uv resistance, our prints retain their beautiful colours for many years. Add colour and style to your living space with this digitally printed painting. Some are for pleasure and some for eternal bliss.so bring home this elegant print that is lushed with rich colors that makes it nothing but sheer elegance to be to your friends and family.it would be treasured forever by whoever your lucky recipient is. Liven up your place with these intriguing paintings that are high definition hd graphic digital prints for home, office or any room.  \n",
      "0  SAF 'Floral' Framed Painting (Wood, 30 inch x ...                                                                                                                                                                                                                                                                                                                                                                                                                                                                                                                                                                                                                                                                                                                                                                                                                                                                                                                                                                                                                                                                                                                                                                                                                                                                                                                                          \n"
     ]
    }
   ],
   "source": [
    "# DATA LOADING\n",
    "csv_path = \"dataset/ecommerceDataset.csv\"\n",
    "MODEL_PATH = os.path.join(os.getcwd(),'saved_models','model.pkl')\n",
    "df = pd.read_csv(csv_path) # file does not have column names\n",
    "print(df.info())\n",
    "print(df.head(1))"
   ]
  },
  {
   "cell_type": "code",
   "execution_count": 135,
   "metadata": {},
   "outputs": [
    {
     "name": "stdout",
     "output_type": "stream",
     "text": [
      "    category                                               text\n",
      "0  Household  Paper Plane Design Framed Wall Hanging Motivat...\n"
     ]
    }
   ],
   "source": [
    "# Add column names for data \n",
    "column_names = ['category','text']\n",
    "df = pd.read_csv(csv_path,names=column_names)\n",
    "df.columns\n",
    "print(df.head(1))"
   ]
  },
  {
   "cell_type": "code",
   "execution_count": 136,
   "metadata": {},
   "outputs": [
    {
     "name": "stdout",
     "output_type": "stream",
     "text": [
      "Shape of the data:  (50425, 2)\n",
      "Data description: \n",
      "           count unique                                                top  \\\n",
      "category  50425      4                                          Household   \n",
      "text      50424  27802  Think & Grow Rich About the Author NAPOLEON HI...   \n",
      "\n",
      "           freq  \n",
      "category  19313  \n",
      "text         30  \n",
      "NA value: \n",
      " category    0\n",
      "text        1\n",
      "dtype: int64\n",
      "Duplicated values:  22622\n",
      "Categories: \n",
      " category\n",
      "Household                 19313\n",
      "Books                     11820\n",
      "Electronics               10621\n",
      "Clothing & Accessories     8671\n",
      "Name: count, dtype: int64\n"
     ]
    }
   ],
   "source": [
    "# DATA INSPECTION\n",
    "print(\"Shape of the data: \",df.shape)\n",
    "print(\"Data description: \\n\",df.describe().transpose())\n",
    "print(\"NA value: \\n\",df.isna().sum())\n",
    "print(\"Duplicated values: \",df.duplicated().sum())\n",
    "print(\"Categories: \\n\",df['category'].value_counts())"
   ]
  },
  {
   "cell_type": "code",
   "execution_count": 137,
   "metadata": {},
   "outputs": [
    {
     "name": "stdout",
     "output_type": "stream",
     "text": [
      "NA value: \n",
      " category    0\n",
      "text        0\n",
      "dtype: int64\n"
     ]
    }
   ],
   "source": [
    "# Replace NA values with 'missing' \n",
    "df['text'] = df['text'].fillna('missing')\n",
    "print(\"NA value: \\n\",df.isna().sum())"
   ]
  },
  {
   "cell_type": "code",
   "execution_count": 138,
   "metadata": {},
   "outputs": [
    {
     "data": {
      "text/plain": [
       "array([3, 3, 3, 3, 3])"
      ]
     },
     "execution_count": 138,
     "metadata": {},
     "output_type": "execute_result"
    }
   ],
   "source": [
    "# DATA PREPROCESSING\n",
    "# Since the label is in form of text, we need to convert it to number\n",
    "# (A) Separate the feature and label\n",
    "feature = df['text'].values # it's only 1 column, no need to be series\n",
    "label = df['category'].values\n",
    "# (B) Perform label encoding to the category column\n",
    "label_encoder = sklearn.preprocessing.LabelEncoder()\n",
    "label_encoded = label_encoder.fit_transform(label) # .fit means that it's already trains\n",
    "label_encoded[:5]"
   ]
  },
  {
   "cell_type": "code",
   "execution_count": 139,
   "metadata": {},
   "outputs": [
    {
     "name": "stdout",
     "output_type": "stream",
     "text": [
      "['Books' 'Clothing & Accessories' 'Electronics' 'Household']\n"
     ]
    }
   ],
   "source": [
    "# Use the label encoder to do inverse transform\n",
    "sample_categories = label_encoder.inverse_transform([0,1,2,3])\n",
    "print(sample_categories)"
   ]
  },
  {
   "cell_type": "code",
   "execution_count": 140,
   "metadata": {},
   "outputs": [],
   "source": [
    "# PERFORM TRAIN-VAL-TEST SPLIT\n",
    "seed = 42\n",
    "x_train, x_split, y_train, y_split = sklearn.model_selection.train_test_split(feature, label_encoded, train_size=0.7, random_state=seed)\n",
    "x_val, x_test, y_val, y_test = sklearn.model_selection.train_test_split(x_split, y_split, train_size=0.5, random_state=seed)"
   ]
  },
  {
   "cell_type": "code",
   "execution_count": 141,
   "metadata": {},
   "outputs": [],
   "source": [
    "# NLP\n",
    "# (A) Tokenization\n",
    "tokenizer = keras.layers.TextVectorization(max_tokens=5000, output_sequence_length=200)\n",
    "tokenizer.adapt(x_train)"
   ]
  },
  {
   "cell_type": "code",
   "execution_count": 142,
   "metadata": {},
   "outputs": [
    {
     "name": "stdout",
     "output_type": "stream",
     "text": [
      "['UPSC New Syllabus & Tips to Crack IAS Preliminary and Mains Exam with Rapid GK 2019 ebook About the Author Disha Experts is a team of most renowned and prolific content writers pioneering in School and Test Prep segments (Competitive Exams and Government Vacancies). It consists of more than 30 experts comprising of IITians, PhDs, B-Techs, PGs, etc. working full-time with decades of experience in various academic and competitive exam verticals. Disha Experts has emerged as a think tank in the School and Test Prep segments providing the most updated (latest pattern and syllabus-wise) to-the-point student friendly (relevant and easy-to-understand presentation) content such that the aspirants can give their best.'\n",
      " 'SOUMIK ELECTRICALS 5-inch Subwoofer with Maximum 4 ohm(100 W) Thisb product is from the brand SOUMIK ELECTRICALS it presents a 5 Inch subwoofer with maximum 4 ohm and comes with 100W. Use in your home theatre.']\n",
      "tf.Tensor(\n",
      "[[3678   57 2388 1996    5 3505 3558 4572    3 3854  496    9 3225    1\n",
      "  1473    1   36    2   51 3756  809   10    6  374    4   71 2291    3\n",
      "  3598  209 1886 4353    8  418    3  617 2015 3174 1280 1655    3 1860\n",
      "     1   13 1939    4   48  101  252  809 1706    4    1    1    1    1\n",
      "   237  504 4325    9 1601    4  140    8  258 1942    3 1280  496    1\n",
      "  3756  809   24 4614   20    6  652 1083    8    2  418    3  617 2015\n",
      "  3174  941    2   71 1732  368  538    3    1    1 1247  793 2701    3\n",
      "     1 2451  209  199   16    2 3122   19  216  100   69    0    0    0\n",
      "     0    0    0    0    0    0    0    0    0    0    0    0    0    0\n",
      "     0    0    0    0    0    0    0    0    0    0    0    0    0    0\n",
      "     0    0    0    0    0    0    0    0    0    0    0    0    0    0\n",
      "     0    0    0    0    0    0    0    0    0    0    0    0    0    0\n",
      "     0    0    0    0    0    0    0    0    0    0    0    0    0    0\n",
      "     0    0    0    0    0    0    0    0    0    0    0    0    0    0\n",
      "     0    0    0    0]\n",
      " [   1    1    1 2685    9  475   89    1  609    1   43   10   17    2\n",
      "   149    1    1   13 1136    6  106  171 2685    9  475   89    1    3\n",
      "    70    9    1   32    8   11   50 3124    0    0    0    0    0    0\n",
      "     0    0    0    0    0    0    0    0    0    0    0    0    0    0\n",
      "     0    0    0    0    0    0    0    0    0    0    0    0    0    0\n",
      "     0    0    0    0    0    0    0    0    0    0    0    0    0    0\n",
      "     0    0    0    0    0    0    0    0    0    0    0    0    0    0\n",
      "     0    0    0    0    0    0    0    0    0    0    0    0    0    0\n",
      "     0    0    0    0    0    0    0    0    0    0    0    0    0    0\n",
      "     0    0    0    0    0    0    0    0    0    0    0    0    0    0\n",
      "     0    0    0    0    0    0    0    0    0    0    0    0    0    0\n",
      "     0    0    0    0    0    0    0    0    0    0    0    0    0    0\n",
      "     0    0    0    0    0    0    0    0    0    0    0    0    0    0\n",
      "     0    0    0    0    0    0    0    0    0    0    0    0    0    0\n",
      "     0    0    0    0]], shape=(2, 200), dtype=int64)\n"
     ]
    }
   ],
   "source": [
    "# Test how the tokenizer works (no 1, 2)\n",
    "sample_tokens = tokenizer(x_train[:2]) # the first 2 data\n",
    "print(x_train[:2])\n",
    "print(sample_tokens)"
   ]
  },
  {
   "cell_type": "code",
   "execution_count": 143,
   "metadata": {},
   "outputs": [],
   "source": [
    "# (B) Embedding\n",
    "embedding = keras.layers.Embedding(5000,64)"
   ]
  },
  {
   "cell_type": "code",
   "execution_count": 144,
   "metadata": {},
   "outputs": [],
   "source": [
    "# MODEL DEVELOPMENT\n",
    "model = keras.Sequential()\n",
    "# (A) NLP layers\n",
    "model.add(tokenizer)\n",
    "model.add(embedding)\n",
    "# (B) RNN\n",
    "model.add(keras.layers.Bidirectional(keras.layers.LSTM(32,return_sequences=False)))\n",
    "model.add(keras.layers.Dense(len(df['category'].unique()),activation='softmax'))"
   ]
  },
  {
   "cell_type": "code",
   "execution_count": null,
   "metadata": {},
   "outputs": [],
   "source": [
    "# MODEL COMPILE\n",
    "# f1_metric = keras.metrics.F1Score(average='macro')\n",
    "model.compile(optimizer='adam',loss='sparse_categorical_crossentropy',metrics=['accuracy'])"
   ]
  },
  {
   "cell_type": "code",
   "execution_count": 146,
   "metadata": {},
   "outputs": [
    {
     "name": "stdout",
     "output_type": "stream",
     "text": [
      "Epoch 1/10\n",
      "\u001b[1m1104/1104\u001b[0m \u001b[32m━━━━━━━━━━━━━━━━━━━━\u001b[0m\u001b[37m\u001b[0m \u001b[1m133s\u001b[0m 113ms/step - accuracy: 0.7998 - loss: 0.5281 - val_accuracy: 0.9602 - val_loss: 0.1433\n",
      "Epoch 2/10\n",
      "\u001b[1m1104/1104\u001b[0m \u001b[32m━━━━━━━━━━━━━━━━━━━━\u001b[0m\u001b[37m\u001b[0m \u001b[1m124s\u001b[0m 112ms/step - accuracy: 0.9726 - loss: 0.1033 - val_accuracy: 0.9669 - val_loss: 0.1290\n",
      "Epoch 3/10\n",
      "\u001b[1m1104/1104\u001b[0m \u001b[32m━━━━━━━━━━━━━━━━━━━━\u001b[0m\u001b[37m\u001b[0m \u001b[1m134s\u001b[0m 121ms/step - accuracy: 0.9828 - loss: 0.0669 - val_accuracy: 0.9695 - val_loss: 0.1179\n",
      "Epoch 4/10\n",
      "\u001b[1m1104/1104\u001b[0m \u001b[32m━━━━━━━━━━━━━━━━━━━━\u001b[0m\u001b[37m\u001b[0m \u001b[1m124s\u001b[0m 113ms/step - accuracy: 0.9880 - loss: 0.0457 - val_accuracy: 0.9692 - val_loss: 0.1254\n",
      "Epoch 5/10\n",
      "\u001b[1m1104/1104\u001b[0m \u001b[32m━━━━━━━━━━━━━━━━━━━━\u001b[0m\u001b[37m\u001b[0m \u001b[1m126s\u001b[0m 114ms/step - accuracy: 0.9904 - loss: 0.0351 - val_accuracy: 0.9613 - val_loss: 0.1517\n",
      "Epoch 5: early stopping\n"
     ]
    }
   ],
   "source": [
    "# MODEL TRAINING\n",
    "logpath = \"tensorboard/ecommerce/\" + datetime.datetime.now().strftime(\"%Y-%m-%d_%H%M%S\")\n",
    "tb = keras.callbacks.TensorBoard(logpath)\n",
    "es = keras.callbacks.EarlyStopping(patience=2, verbose=3)\n",
    "history = model.fit(x_train,y_train,validation_data=(x_val,y_val),epochs=10,batch_size=32,callbacks=[tb,es])"
   ]
  },
  {
   "cell_type": "code",
   "execution_count": 156,
   "metadata": {},
   "outputs": [
    {
     "data": {
      "text/html": [
       "<pre style=\"white-space:pre;overflow-x:auto;line-height:normal;font-family:Menlo,'DejaVu Sans Mono',consolas,'Courier New',monospace\"><span style=\"font-weight: bold\">Model: \"sequential_5\"</span>\n",
       "</pre>\n"
      ],
      "text/plain": [
       "\u001b[1mModel: \"sequential_5\"\u001b[0m\n"
      ]
     },
     "metadata": {},
     "output_type": "display_data"
    },
    {
     "data": {
      "text/html": [
       "<pre style=\"white-space:pre;overflow-x:auto;line-height:normal;font-family:Menlo,'DejaVu Sans Mono',consolas,'Courier New',monospace\">┏━━━━━━━━━━━━━━━━━━━━━━━━━━━━━━━━━┳━━━━━━━━━━━━━━━━━━━━━━━━┳━━━━━━━━━━━━━━━┓\n",
       "┃<span style=\"font-weight: bold\"> Layer (type)                    </span>┃<span style=\"font-weight: bold\"> Output Shape           </span>┃<span style=\"font-weight: bold\">       Param # </span>┃\n",
       "┡━━━━━━━━━━━━━━━━━━━━━━━━━━━━━━━━━╇━━━━━━━━━━━━━━━━━━━━━━━━╇━━━━━━━━━━━━━━━┩\n",
       "│ text_vectorization_5            │ (<span style=\"color: #00d7ff; text-decoration-color: #00d7ff\">None</span>, <span style=\"color: #00af00; text-decoration-color: #00af00\">200</span>)            │             <span style=\"color: #00af00; text-decoration-color: #00af00\">0</span> │\n",
       "│ (<span style=\"color: #0087ff; text-decoration-color: #0087ff\">TextVectorization</span>)             │                        │               │\n",
       "├─────────────────────────────────┼────────────────────────┼───────────────┤\n",
       "│ embedding_5 (<span style=\"color: #0087ff; text-decoration-color: #0087ff\">Embedding</span>)         │ (<span style=\"color: #00d7ff; text-decoration-color: #00d7ff\">None</span>, <span style=\"color: #00af00; text-decoration-color: #00af00\">200</span>, <span style=\"color: #00af00; text-decoration-color: #00af00\">64</span>)        │       <span style=\"color: #00af00; text-decoration-color: #00af00\">320,000</span> │\n",
       "├─────────────────────────────────┼────────────────────────┼───────────────┤\n",
       "│ bidirectional_5 (<span style=\"color: #0087ff; text-decoration-color: #0087ff\">Bidirectional</span>) │ (<span style=\"color: #00d7ff; text-decoration-color: #00d7ff\">None</span>, <span style=\"color: #00af00; text-decoration-color: #00af00\">64</span>)             │        <span style=\"color: #00af00; text-decoration-color: #00af00\">24,832</span> │\n",
       "├─────────────────────────────────┼────────────────────────┼───────────────┤\n",
       "│ dense_5 (<span style=\"color: #0087ff; text-decoration-color: #0087ff\">Dense</span>)                 │ (<span style=\"color: #00d7ff; text-decoration-color: #00d7ff\">None</span>, <span style=\"color: #00af00; text-decoration-color: #00af00\">4</span>)              │           <span style=\"color: #00af00; text-decoration-color: #00af00\">260</span> │\n",
       "└─────────────────────────────────┴────────────────────────┴───────────────┘\n",
       "</pre>\n"
      ],
      "text/plain": [
       "┏━━━━━━━━━━━━━━━━━━━━━━━━━━━━━━━━━┳━━━━━━━━━━━━━━━━━━━━━━━━┳━━━━━━━━━━━━━━━┓\n",
       "┃\u001b[1m \u001b[0m\u001b[1mLayer (type)                   \u001b[0m\u001b[1m \u001b[0m┃\u001b[1m \u001b[0m\u001b[1mOutput Shape          \u001b[0m\u001b[1m \u001b[0m┃\u001b[1m \u001b[0m\u001b[1m      Param #\u001b[0m\u001b[1m \u001b[0m┃\n",
       "┡━━━━━━━━━━━━━━━━━━━━━━━━━━━━━━━━━╇━━━━━━━━━━━━━━━━━━━━━━━━╇━━━━━━━━━━━━━━━┩\n",
       "│ text_vectorization_5            │ (\u001b[38;5;45mNone\u001b[0m, \u001b[38;5;34m200\u001b[0m)            │             \u001b[38;5;34m0\u001b[0m │\n",
       "│ (\u001b[38;5;33mTextVectorization\u001b[0m)             │                        │               │\n",
       "├─────────────────────────────────┼────────────────────────┼───────────────┤\n",
       "│ embedding_5 (\u001b[38;5;33mEmbedding\u001b[0m)         │ (\u001b[38;5;45mNone\u001b[0m, \u001b[38;5;34m200\u001b[0m, \u001b[38;5;34m64\u001b[0m)        │       \u001b[38;5;34m320,000\u001b[0m │\n",
       "├─────────────────────────────────┼────────────────────────┼───────────────┤\n",
       "│ bidirectional_5 (\u001b[38;5;33mBidirectional\u001b[0m) │ (\u001b[38;5;45mNone\u001b[0m, \u001b[38;5;34m64\u001b[0m)             │        \u001b[38;5;34m24,832\u001b[0m │\n",
       "├─────────────────────────────────┼────────────────────────┼───────────────┤\n",
       "│ dense_5 (\u001b[38;5;33mDense\u001b[0m)                 │ (\u001b[38;5;45mNone\u001b[0m, \u001b[38;5;34m4\u001b[0m)              │           \u001b[38;5;34m260\u001b[0m │\n",
       "└─────────────────────────────────┴────────────────────────┴───────────────┘\n"
      ]
     },
     "metadata": {},
     "output_type": "display_data"
    },
    {
     "data": {
      "text/html": [
       "<pre style=\"white-space:pre;overflow-x:auto;line-height:normal;font-family:Menlo,'DejaVu Sans Mono',consolas,'Courier New',monospace\"><span style=\"font-weight: bold\"> Total params: </span><span style=\"color: #00af00; text-decoration-color: #00af00\">1,035,278</span> (3.95 MB)\n",
       "</pre>\n"
      ],
      "text/plain": [
       "\u001b[1m Total params: \u001b[0m\u001b[38;5;34m1,035,278\u001b[0m (3.95 MB)\n"
      ]
     },
     "metadata": {},
     "output_type": "display_data"
    },
    {
     "data": {
      "text/html": [
       "<pre style=\"white-space:pre;overflow-x:auto;line-height:normal;font-family:Menlo,'DejaVu Sans Mono',consolas,'Courier New',monospace\"><span style=\"font-weight: bold\"> Trainable params: </span><span style=\"color: #00af00; text-decoration-color: #00af00\">345,092</span> (1.32 MB)\n",
       "</pre>\n"
      ],
      "text/plain": [
       "\u001b[1m Trainable params: \u001b[0m\u001b[38;5;34m345,092\u001b[0m (1.32 MB)\n"
      ]
     },
     "metadata": {},
     "output_type": "display_data"
    },
    {
     "data": {
      "text/html": [
       "<pre style=\"white-space:pre;overflow-x:auto;line-height:normal;font-family:Menlo,'DejaVu Sans Mono',consolas,'Courier New',monospace\"><span style=\"font-weight: bold\"> Non-trainable params: </span><span style=\"color: #00af00; text-decoration-color: #00af00\">0</span> (0.00 B)\n",
       "</pre>\n"
      ],
      "text/plain": [
       "\u001b[1m Non-trainable params: \u001b[0m\u001b[38;5;34m0\u001b[0m (0.00 B)\n"
      ]
     },
     "metadata": {},
     "output_type": "display_data"
    },
    {
     "data": {
      "text/html": [
       "<pre style=\"white-space:pre;overflow-x:auto;line-height:normal;font-family:Menlo,'DejaVu Sans Mono',consolas,'Courier New',monospace\"><span style=\"font-weight: bold\"> Optimizer params: </span><span style=\"color: #00af00; text-decoration-color: #00af00\">690,186</span> (2.63 MB)\n",
       "</pre>\n"
      ],
      "text/plain": [
       "\u001b[1m Optimizer params: \u001b[0m\u001b[38;5;34m690,186\u001b[0m (2.63 MB)\n"
      ]
     },
     "metadata": {},
     "output_type": "display_data"
    },
    {
     "name": "stdout",
     "output_type": "stream",
     "text": [
      "None\n"
     ]
    },
    {
     "data": {
      "image/png": "[encoded data removed]",
      "text/plain": [
       "<IPython.core.display.Image object>"
      ]
     },
     "execution_count": 156,
     "metadata": {},
     "output_type": "execute_result"
    }
   ],
   "source": [
    "print(model.summary()) # to see model's architecture\n",
    "keras.utils.plot_model(model)"
   ]
  },
  {
   "cell_type": "code",
   "execution_count": 157,
   "metadata": {},
   "outputs": [
    {
     "data": {
      "image/png": "[encoded data removed]",
      "text/plain": [
       "<Figure size 640x480 with 1 Axes>"
      ]
     },
     "metadata": {},
     "output_type": "display_data"
    }
   ],
   "source": [
    "plt.plot(history.history['accuracy'], label='Train Accuracy', color='purple')\n",
    "plt.plot(history.history['val_accuracy'], label='Validation Accuracy', color='grey')\n",
    "plt.title('Model Accuracy')\n",
    "plt.xlabel('Epochs')\n",
    "plt.ylabel('Accuracy')\n",
    "plt.legend()  \n",
    "plt.show()"
   ]
  },
  {
   "cell_type": "code",
   "execution_count": null,
   "metadata": {},
   "outputs": [
    {
     "name": "stdout",
     "output_type": "stream",
     "text": [
      "\u001b[1m237/237\u001b[0m \u001b[32m━━━━━━━━━━━━━━━━━━━━\u001b[0m\u001b[37m\u001b[0m \u001b[1m7s\u001b[0m 28ms/step - accuracy: 0.9658 - loss: 0.1416\n",
      "[0.15397578477859497, 0.9625859260559082]\n"
     ]
    }
   ],
   "source": [
    "# Further evaluate with test data\n",
    "evaluation = model.evaluate(x_test,y_test)\n",
    "print(evaluation)\n",
    "# from the evaluation, we have 96.3% accuracy which is ok "
   ]
  },
  {
   "cell_type": "code",
   "execution_count": 159,
   "metadata": {},
   "outputs": [
    {
     "name": "stdout",
     "output_type": "stream",
     "text": [
      "(3, 3)\n"
     ]
    }
   ],
   "source": [
    "y_true = np.array([[1,1,1],\n",
    "                  [1,0,0],\n",
    "                  [1,1,0]], np.int32)\n",
    "print(y_true.shape)"
   ]
  },
  {
   "cell_type": "code",
   "execution_count": 160,
   "metadata": {},
   "outputs": [
    {
     "name": "stdout",
     "output_type": "stream",
     "text": [
      "\u001b[1m237/237\u001b[0m \u001b[32m━━━━━━━━━━━━━━━━━━━━\u001b[0m\u001b[37m\u001b[0m \u001b[1m7s\u001b[0m 29ms/step\n",
      "              precision    recall  f1-score   support\n",
      "\n",
      "           0       0.99      0.92      0.95      1765\n",
      "           1       0.98      0.98      0.98      1346\n",
      "           2       0.96      0.96      0.96      1509\n",
      "           3       0.94      0.98      0.96      2944\n",
      "\n",
      "    accuracy                           0.96      7564\n",
      "   macro avg       0.97      0.96      0.96      7564\n",
      "weighted avg       0.96      0.96      0.96      7564\n",
      "\n"
     ]
    }
   ],
   "source": [
    "from sklearn.metrics import classification_report\n",
    "prediction = model.predict(x_test)\n",
    "prediction_index = np.argmax(prediction,axis=1)\n",
    "model_report = classification_report(y_test,prediction_index)\n",
    "print(model_report)"
   ]
  },
  {
   "cell_type": "code",
   "execution_count": 161,
   "metadata": {},
   "outputs": [],
   "source": [
    "# # F1 Score\n",
    "# predictions = model.predict(x_test)\n",
    "# y_pred = np.argmax(predictions,axis=1)\n",
    "# y_pred = y_pred.reshape(1,-1)\n",
    "# print(y_pred.shape)\n",
    "\n",
    "# y_test = y_test.reshape(1,-1)\n",
    "# print(y_test.shape)\n",
    "\n",
    "# metric = keras.metrics.F1Score(threshold=0.5)\n",
    "# metric.update_state(y_test,y_pred)\n",
    "# result = metric.result()\n",
    "# print(result)"
   ]
  },
  {
   "cell_type": "code",
   "execution_count": 162,
   "metadata": {},
   "outputs": [
    {
     "name": "stdout",
     "output_type": "stream",
     "text": [
      "\u001b[1m1/1\u001b[0m \u001b[32m━━━━━━━━━━━━━━━━━━━━\u001b[0m\u001b[37m\u001b[0m \u001b[1m0s\u001b[0m 73ms/step\n",
      "['72 Music Scales: For Composers & Improvising Musicians '\n",
      " 'Anchor Fly with Me Stitch Kit A range of over 300 d-i-y kits with easy to make embroidery designs on canvas. Anchor stitch kits contain everything you need to help you make your own special embroidery creation. Happy crafting.'\n",
      " \"Wall1ders Atulya Arts 3D Hexagon Acrylic Stickers with 20 Butterfly Wall Stickers (Silver) -Pack of 14 First Time in India!!! An INDIAN COMPANY named “Atulya Arts” presenting new trend of wall decoration in 3D acrylic, made using imported cast acrylic with computerized laser cutting method. Design you wall with your own creativity Buy from trusted name only!!! 'Atulya Arts' products are of premium quality and use only high standard material. Our products are quality controlled and pre stocked. Atulya Arts - Presenting high quality 3D Mirror or 3D acrylic sticker, Search Atulya Arts - acrylic, Atulya Arts - acrylic sticker that is affixed to a wall or other smooth surface for decoration and informational purposes, as a quick and easy way to personalize and transform your living room, bedroom, bathroom, kitchen, every space of your beautiful home & offices. Sizes are rounded to the nearest centimeters and are based on proportional higher side dimensions. Atulya Arts – Acrylic stickers are environment friendly and no harm to environment and health. Easy way to installation: “Atulya Arts” use only the highest quality premium self-adhesive acrylic for our products. So, please keep the wall surface clean before pasting and ensure that the wall is free from dust, wet, grease or any other contamination. Simply peel those pre-cut pieces of wall stickers off from the backing paper and apply them to the desired area. After pasting the wall stickers on your wall, press firmly along the border. Don't apply the product on wet walls, ashes surface, muddy, uneven and broken surface.\"]\n",
      "['Books' 'Household' 'Household']\n"
     ]
    }
   ],
   "source": [
    "# USE THE MODEL FOR INFERENCE\n",
    "predictions = model.predict(x_test[:3])\n",
    "class_predictions = label_encoder.inverse_transform(np.argmax(predictions,axis=1))\n",
    "print(x_test[:3])\n",
    "print(class_predictions)"
   ]
  },
  {
   "cell_type": "code",
   "execution_count": 163,
   "metadata": {},
   "outputs": [],
   "source": [
    "# SAVE THE NECESSARY COMPONENTS\n",
    "# (A) Label encoder\n",
    "with open(\"saved_models/ecommerce_encoder.pkl\",\"wb\") as f:\n",
    "    pickle.dump(label_encoder,f)"
   ]
  },
  {
   "cell_type": "code",
   "execution_count": 164,
   "metadata": {},
   "outputs": [
    {
     "name": "stderr",
     "output_type": "stream",
     "text": [
      "WARNING:absl:You are saving your model as an HDF5 file via `model.save()` or `keras.saving.save_model(model)`. This file format is considered legacy. We recommend using instead the native Keras format, e.g. `model.save('my_model.keras')` or `keras.saving.save_model(model, 'my_model.keras')`. \n"
     ]
    }
   ],
   "source": [
    "# (B) Model\n",
    "keras.models.save_model(model,\"saved_models/ecommerce_analysis.h5\")"
   ]
  },
  {
   "cell_type": "code",
   "execution_count": 165,
   "metadata": {},
   "outputs": [],
   "source": [
    "# (C) Tokenizer \n",
    "with open('saved_models/tokenizer.json','wb') as f:\n",
    "    pickle.dump(tokenizer,f)"
   ]
  },
  {
   "cell_type": "code",
   "execution_count": null,
   "metadata": {},
   "outputs": [],
   "source": []
  }
 ],
 "metadata": {
  "kernelspec": {
   "display_name": "tensorflow_cpu",
   "language": "python",
   "name": "python3"
  },
  "language_info": {
   "codemirror_mode": {
    "name": "ipython",
    "version": 3
   },
   "file_extension": ".py",
   "mimetype": "text/x-python",
   "name": "python",
   "nbconvert_exporter": "python",
   "pygments_lexer": "ipython3",
   "version": "3.12.7"
  }
 },
 "nbformat": 4,
 "nbformat_minor": 2
}
